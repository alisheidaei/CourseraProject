{
 "cells": [
  {
   "cell_type": "markdown",
   "id": "d9cf50d2-5e34-44a8-9684-2a1f51d43935",
   "metadata": {},
   "source": [
    "# Data Science Tools and Ecosystem"
   ]
  },
  {
   "cell_type": "markdown",
   "id": "b24f94ae-5f75-4adb-890d-df185bed3555",
   "metadata": {},
   "source": [
    "In this notebook, Data Science Tools and Ecosystem are summarized."
   ]
  },
  {
   "cell_type": "markdown",
   "id": "5dccfdaa-6ff8-423d-95ef-465c63f59991",
   "metadata": {},
   "source": [
    "## Author\n",
    "Ali Sheidaei"
   ]
  },
  {
   "cell_type": "markdown",
   "id": "1b91419b-715d-43f9-8082-e790a1e33115",
   "metadata": {},
   "source": [
    "**Objectives:**\n",
    "\n",
    "- List popular programming languages for Data Science.\n",
    "- Explain the importance of Python in data analysis.\n",
    "- Introduce basic arithmetic operations in Python."
   ]
  },
  {
   "cell_type": "markdown",
   "id": "1cb90bf8-2449-4056-9f5c-2d7b9d9f9610",
   "metadata": {},
   "source": [
    "Some of the popular languages that Data Scientists use are:\n",
    "1. Python\n",
    "2. R\n",
    "3. SQL\n",
    "4. Julia\n",
    "5. Java\n",
    "6. JavaScript"
   ]
  },
  {
   "cell_type": "markdown",
   "id": "a0c0c736-cf25-45cf-8599-e549e2c82a22",
   "metadata": {},
   "source": [
    "Some of the commonly used libraries used by Data Scientists include:\n",
    "1. NumPy\n",
    "2. Pandas\n",
    "3. Scikit-learn\n",
    "4. SciPy\n",
    "5. Seaborn\n",
    "6. TensorFlow\n",
    "7. Keras\n",
    "8. PyTorch"
   ]
  },
  {
   "cell_type": "markdown",
   "id": "06e05858-6421-42f8-ae9f-807a2b3d9981",
   "metadata": {},
   "source": [
    "Data Science Tools\n",
    "| Data Science Tools |\n",
    "|:--------:|\n",
    "|  Python   | \n",
    "|  R   | \n",
    "|  SQL   | "
   ]
  },
  {
   "cell_type": "markdown",
   "id": "06c9d780-3ac2-4311-b485-ed1daaa01243",
   "metadata": {},
   "source": [
    "### Below are a few examples of evaluating arithmetic expressions in Python."
   ]
  },
  {
   "cell_type": "code",
   "execution_count": 2,
   "id": "2d84df44-7e8f-40d7-864d-e556f603a988",
   "metadata": {},
   "outputs": [
    {
     "data": {
      "text/plain": [
       "17"
      ]
     },
     "execution_count": 2,
     "metadata": {},
     "output_type": "execute_result"
    }
   ],
   "source": [
    "# This a simple arithmetic expression to mutiply then add integers\n",
    "(3*4)+5"
   ]
  },
  {
   "cell_type": "code",
   "execution_count": 3,
   "id": "7815ab37-4cbf-4caf-b611-43529e2c0dd2",
   "metadata": {},
   "outputs": [
    {
     "data": {
      "text/plain": [
       "3.3333333333333335"
      ]
     },
     "execution_count": 3,
     "metadata": {},
     "output_type": "execute_result"
    }
   ],
   "source": [
    "# This will convert 200 minutes to hours by diving by 60\n",
    "200/60"
   ]
  },
  {
   "cell_type": "code",
   "execution_count": null,
   "id": "a48f186a-a659-4859-a424-382bf612fd31",
   "metadata": {},
   "outputs": [],
   "source": []
  }
 ],
 "metadata": {
  "kernelspec": {
   "display_name": "Python 3 (ipykernel)",
   "language": "python",
   "name": "python3"
  },
  "language_info": {
   "codemirror_mode": {
    "name": "ipython",
    "version": 3
   },
   "file_extension": ".py",
   "mimetype": "text/x-python",
   "name": "python",
   "nbconvert_exporter": "python",
   "pygments_lexer": "ipython3",
   "version": "3.11.9"
  }
 },
 "nbformat": 4,
 "nbformat_minor": 5
}
